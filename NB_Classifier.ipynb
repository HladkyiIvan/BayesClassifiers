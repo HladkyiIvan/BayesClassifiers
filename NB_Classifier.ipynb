{
 "cells": [
  {
   "cell_type": "markdown",
   "metadata": {},
   "source": [
    "# Generate Samples"
   ]
  },
  {
   "cell_type": "code",
   "execution_count": 18,
   "metadata": {},
   "outputs": [
    {
     "name": "stdout",
     "output_type": "stream",
     "text": [
      "(200, 2) (200,)\n",
      "[[-10.8278844   -4.83392615]\n",
      " [-11.18003063  -4.61910307]\n",
      " [-10.55520723  -3.0141798 ]\n",
      " [ -1.42706535   5.08904128]\n",
      " [ -8.16299488  -3.38896569]]\n",
      "[1 1 1 0 1]\n"
     ]
    }
   ],
   "source": [
    "from sklearn.datasets import make_blobs\n",
    "# generate 2d classification dataset\n",
    "X, y = make_blobs(n_samples=200, centers=2, n_features=2, random_state=1)\n",
    "# summarize\n",
    "print(X.shape, y.shape)\n",
    "print(X[:5])\n",
    "print(y[:5])"
   ]
  },
  {
   "cell_type": "code",
   "execution_count": 19,
   "metadata": {},
   "outputs": [
    {
     "data": {
      "text/plain": [
       "<matplotlib.legend.Legend at 0x1cf99946808>"
      ]
     },
     "execution_count": 19,
     "metadata": {},
     "output_type": "execute_result"
    },
    {
     "data": {
      "image/png": "[encoded data removed]",
      "text/plain": [
       "<Figure size 432x288 with 1 Axes>"
      ]
     },
     "metadata": {
      "needs_background": "light"
     },
     "output_type": "display_data"
    }
   ],
   "source": [
    "import matplotlib.pyplot as plt\n",
    "\n",
    "fig, ax = plt.subplots()\n",
    "\n",
    "ax.scatter(X[y == 0, 0], X[y == 0, 1], c = 'red', label='class 0')\n",
    "ax.scatter(X[y == 1, 0], X[y == 1, 1], c = 'blue', label='class 1')\n",
    "ax.set_title('Data X')\n",
    "ax.set_xlabel('var0', fontsize=12)\n",
    "ax.set_ylabel('var1', fontsize=12)\n",
    "ax.legend()"
   ]
  },
  {
   "cell_type": "markdown",
   "metadata": {},
   "source": [
    "# Naive Bayes Classifier "
   ]
  },
  {
   "cell_type": "code",
   "execution_count": 35,
   "metadata": {},
   "outputs": [],
   "source": [
    "from scipy.stats import norm\n",
    "from sklearn.neighbors import KernelDensity\n",
    "import numpy as np\n",
    "import pandas as pd\n",
    "\n",
    "class NaiveBayesClassifier:\n",
    "    def __init__(self, smoothing_alpha = 0.01, kde_on = False, bandwidth = 2):\n",
    "        self.__classes_priory = []\n",
    "        self._features_info = {}\n",
    "        self.__smoothing_alpha = smoothing_alpha\n",
    "        self.__kde_on = kde_on\n",
    "        self.__bandwidth = bandwidth\n",
    "\n",
    "    def fit(self, X, y):\n",
    "        self.__data_len = len(y)\n",
    "        self.__classes = np.sort(np.unique(y))\n",
    "        self.__num_classes = len(self.__classes)\n",
    "        self.__categorical_threshold = round(np.sqrt(self.__data_len * 0.5)) # empirical formula\n",
    "        \n",
    "        self.__set_classes_priory(y)\n",
    "        \n",
    "        for feat in X.columns:\n",
    "            self.__set_feature_info(feat, X[feat].values, np.squeeze(y.values))\n",
    "        \n",
    "    \n",
    "    def __set_classes_priory(self, y):\n",
    "        for cl in self.__classes:\n",
    "            self.__classes_priory.append(np.sum(y.values == cl) / self.__data_len)\n",
    "            \n",
    "    \n",
    "    def __set_feature_info(self, feature_name, feature_col, target_col):\n",
    "        self._features_info[feature_name] = {}\n",
    "        feat_type = ''\n",
    "        feat_unique_count = len(np.unique(feature_col))\n",
    "        \n",
    "        if feat_unique_count < self.__categorical_threshold :\n",
    "            feat_type = 'discrete'\n",
    "            self._features_info[feature_name]['categories_proba'] = {}\n",
    "            self._features_info[feature_name]['num_categories'] = feat_unique_count\n",
    "            \n",
    "            for category in np.sort(np.unique(feature_col)):\n",
    "                self._features_info[feature_name]['categories_proba'][category] = []\n",
    "                \n",
    "                for cl in self.__classes:\n",
    "                    self._features_info[feature_name]['categories_proba'][category].append(\n",
    "                        self.__get_category_proba_for_class(feature_col[target_col == cl], category, feat_unique_count))\n",
    "        else:\n",
    "            feat_type = 'continuous'\n",
    "            self._features_info[feature_name]['dist'] = []\n",
    "            \n",
    "            for cl in self.__classes:\n",
    "                self._features_info[feature_name]['dist'].append(\n",
    "                    self.__get_continuous_feature_parameters(feature_col[target_col == cl]))\n",
    "            \n",
    "        self._features_info[feature_name]['type'] = feat_type\n",
    "        \n",
    "    \n",
    "    def __get_category_proba_for_class(self, class_feature_col, category, feat_unique_count):\n",
    "        numerator = np.sum(class_feature_col == category) + self.__smoothing_alpha\n",
    "        #---------  ----------------------------------------------------------\n",
    "        denominator = class_feature_col.shape[0] + feat_unique_count * self.__smoothing_alpha\n",
    "        \n",
    "        smoothed_proba = numerator/denominator\n",
    "        return smoothed_proba\n",
    "        \n",
    "\n",
    "    def __get_continuous_feature_parameters(self, class_feature_col):\n",
    "        if self.__kde_on:\n",
    "            dist = KernelDensity(bandwidth=self.__bandwidth, kernel='gaussian')\n",
    "            dist.fit(class_feature_col.reshape(len(class_feature_col), 1))\n",
    "        else:\n",
    "            mu = np.mean(class_feature_col)\n",
    "            sigma = np.std(class_feature_col)\n",
    "            dist = norm(mu, sigma)\n",
    "        return dist\n",
    "        \n",
    "    \n",
    "    def predict(self, data):\n",
    "        return data.apply(lambda row: self.__get_single_prediction(row, 'class'), axis = 1).to_numpy()\n",
    "\n",
    "    \n",
    "    def predict_proba(self, data, normalize = True):\n",
    "        predictions = np.matrix(data.apply(lambda row: self.__get_single_prediction(row, 'proba'), axis = 1).tolist())\n",
    "        \n",
    "        if normalize:\n",
    "            return np.apply_along_axis(self.normalize_proba, 1, predictions)\n",
    "        \n",
    "        return predictions\n",
    "    \n",
    "    \n",
    "    def normalize_proba(self, pred):\n",
    "        pred_sum = np.sum(pred)\n",
    "        \n",
    "        for i in range(len(pred)):\n",
    "            pred[i] /= pred_sum\n",
    "        \n",
    "        return pred\n",
    "    \n",
    "    \n",
    "    def predict_log(self, data):\n",
    "        return np.matrix(data.apply(lambda row: self.__get_single_prediction(row, 'log'), axis = 1).tolist())\n",
    "        \n",
    "    \n",
    "    def __get_single_prediction(self, example, pred_type = 'proba'):\n",
    "        results = []\n",
    "        for i in range(len(self.__classes)):\n",
    "            if pred_type == 'log':\n",
    "                results.append(np.log(self.__classes_priory[i]))\n",
    "            else:\n",
    "                results.append(self.__classes_priory[i])\n",
    "            \n",
    "            for key, value in self._features_info.items():\n",
    "                feature_proba = 0\n",
    "                \n",
    "                if value['type'] == 'discrete':\n",
    "                    feature_proba = value['categories_proba'][example[key]][i]\n",
    "                elif value['type'] == 'continuous':\n",
    "                    if self.__kde_on:\n",
    "                        feature_proba = np.exp(value['dist'][i].score_samples(example[key].reshape(1, -1))[0])\n",
    "                    else:\n",
    "                        feature_proba = value['dist'][i].pdf(example[key])\n",
    "                \n",
    "                if pred_type == 'log':\n",
    "                    results[i] += np.log(feature_proba)\n",
    "                else:\n",
    "                    results[i] *= feature_proba\n",
    "        \n",
    "        if pred_type == 'class':\n",
    "            return np.argmax(results)\n",
    "        \n",
    "        return results\n",
    "    \n",
    "    \n",
    "    def summary(self):\n",
    "        print('General information :')\n",
    "        classes_priory = \",  \".join([str(self.__classes[i]) + \" : \" + str(round(self.__classes_priory[i], 4)) + \"%\" for i in range(len(self.__classes_priory))])\n",
    "        settings = pd.DataFrame({'attribute' : ['data_len', 'classes_priory', 'smoothing_alpha', 'kde_on', 'bandwidth', 'categorical_threshold'],\n",
    "                                 'value' : [self.__data_len, classes_priory, self.__smoothing_alpha, self.__kde_on, self.__bandwidth, self.__categorical_threshold]})\n",
    "        display(settings)\n",
    "        \n",
    "        print('\\nInformation about features :')\n",
    "        \n",
    "        \n",
    "        "
   ]
  },
  {
   "cell_type": "code",
   "execution_count": 21,
   "metadata": {},
   "outputs": [],
   "source": [
    "np.random.seed(1)\n",
    "data_X = pd.DataFrame(np.append(X, np.random.randint(5, size=(200,1 )), axis = 1), columns=['var1', 'var2', 'var3'])\n",
    "data_y = pd.DataFrame(y, columns=['training_class'])"
   ]
  },
  {
   "cell_type": "code",
   "execution_count": 22,
   "metadata": {},
   "outputs": [],
   "source": [
    "data_y[data_y.training_class == 0] = 'first'\n",
    "data_y[data_y.training_class == 1] = 'second'"
   ]
  },
  {
   "cell_type": "code",
   "execution_count": 23,
   "metadata": {},
   "outputs": [
    {
     "data": {
      "text/html": [
       "<div>\n",
       "<style scoped>\n",
       "    .dataframe tbody tr th:only-of-type {\n",
       "        vertical-align: middle;\n",
       "    }\n",
       "\n",
       "    .dataframe tbody tr th {\n",
       "        vertical-align: top;\n",
       "    }\n",
       "\n",
       "    .dataframe thead th {\n",
       "        text-align: right;\n",
       "    }\n",
       "</style>\n",
       "<table border=\"1\" class=\"dataframe\">\n",
       "  <thead>\n",
       "    <tr style=\"text-align: right;\">\n",
       "      <th></th>\n",
       "      <th>training_class</th>\n",
       "    </tr>\n",
       "  </thead>\n",
       "  <tbody>\n",
       "    <tr>\n",
       "      <th>0</th>\n",
       "      <td>second</td>\n",
       "    </tr>\n",
       "    <tr>\n",
       "      <th>1</th>\n",
       "      <td>second</td>\n",
       "    </tr>\n",
       "    <tr>\n",
       "      <th>2</th>\n",
       "      <td>second</td>\n",
       "    </tr>\n",
       "    <tr>\n",
       "      <th>3</th>\n",
       "      <td>first</td>\n",
       "    </tr>\n",
       "    <tr>\n",
       "      <th>4</th>\n",
       "      <td>second</td>\n",
       "    </tr>\n",
       "    <tr>\n",
       "      <th>...</th>\n",
       "      <td>...</td>\n",
       "    </tr>\n",
       "    <tr>\n",
       "      <th>195</th>\n",
       "      <td>second</td>\n",
       "    </tr>\n",
       "    <tr>\n",
       "      <th>196</th>\n",
       "      <td>first</td>\n",
       "    </tr>\n",
       "    <tr>\n",
       "      <th>197</th>\n",
       "      <td>first</td>\n",
       "    </tr>\n",
       "    <tr>\n",
       "      <th>198</th>\n",
       "      <td>second</td>\n",
       "    </tr>\n",
       "    <tr>\n",
       "      <th>199</th>\n",
       "      <td>first</td>\n",
       "    </tr>\n",
       "  </tbody>\n",
       "</table>\n",
       "<p>200 rows × 1 columns</p>\n",
       "</div>"
      ],
      "text/plain": [
       "    training_class\n",
       "0           second\n",
       "1           second\n",
       "2           second\n",
       "3            first\n",
       "4           second\n",
       "..             ...\n",
       "195         second\n",
       "196          first\n",
       "197          first\n",
       "198         second\n",
       "199          first\n",
       "\n",
       "[200 rows x 1 columns]"
      ]
     },
     "execution_count": 23,
     "metadata": {},
     "output_type": "execute_result"
    }
   ],
   "source": [
    "data_y"
   ]
  },
  {
   "cell_type": "code",
   "execution_count": 36,
   "metadata": {},
   "outputs": [],
   "source": [
    "classifier = NaiveBayesClassifier(kde_on=True)"
   ]
  },
  {
   "cell_type": "code",
   "execution_count": 37,
   "metadata": {},
   "outputs": [],
   "source": [
    "classifier.fit(data_X, data_y)"
   ]
  },
  {
   "cell_type": "code",
   "execution_count": 38,
   "metadata": {},
   "outputs": [
    {
     "data": {
      "text/plain": [
       "{'var1': {'dist': [KernelDensity(algorithm='auto', atol=0, bandwidth=2, breadth_first=True,\n",
       "                 kernel='gaussian', leaf_size=40, metric='euclidean',\n",
       "                 metric_params=None, rtol=0),\n",
       "   KernelDensity(algorithm='auto', atol=0, bandwidth=2, breadth_first=True,\n",
       "                 kernel='gaussian', leaf_size=40, metric='euclidean',\n",
       "                 metric_params=None, rtol=0)],\n",
       "  'type': 'continuous'},\n",
       " 'var2': {'dist': [KernelDensity(algorithm='auto', atol=0, bandwidth=2, breadth_first=True,\n",
       "                 kernel='gaussian', leaf_size=40, metric='euclidean',\n",
       "                 metric_params=None, rtol=0),\n",
       "   KernelDensity(algorithm='auto', atol=0, bandwidth=2, breadth_first=True,\n",
       "                 kernel='gaussian', leaf_size=40, metric='euclidean',\n",
       "                 metric_params=None, rtol=0)],\n",
       "  'type': 'continuous'},\n",
       " 'var3': {'categories_proba': {0.0: [0.21999000499750127, 0.21999000499750127],\n",
       "   1.0: [0.2, 0.21999000499750127],\n",
       "   2.0: [0.13003498250874562, 0.20999500249875064],\n",
       "   3.0: [0.20999500249875064, 0.15002498750624688],\n",
       "   4.0: [0.23998000999500252, 0.2]},\n",
       "  'num_categories': 5,\n",
       "  'type': 'discrete'}}"
      ]
     },
     "execution_count": 38,
     "metadata": {},
     "output_type": "execute_result"
    }
   ],
   "source": [
    "classifier._features_info"
   ]
  },
  {
   "cell_type": "code",
   "execution_count": 39,
   "metadata": {},
   "outputs": [
    {
     "name": "stdout",
     "output_type": "stream",
     "text": [
      "[1 1 1 0 1 1 0 1 0 1]\n",
      "[[2.42952777e-08 9.99999976e-01]\n",
      " [1.53509688e-08 9.99999985e-01]\n",
      " [6.19156201e-07 9.99999381e-01]\n",
      " [9.99999761e-01 2.39175113e-07]\n",
      " [3.89193211e-05 9.99961081e-01]\n",
      " [1.13476733e-06 9.99998865e-01]\n",
      " [9.99999859e-01 1.40681690e-07]\n",
      " [4.44840307e-08 9.99999956e-01]\n",
      " [9.99999654e-01 3.46065518e-07]\n",
      " [1.48916247e-07 9.99999851e-01]]\n"
     ]
    }
   ],
   "source": [
    "print(y[:10])\n",
    "print(classifier.predict_proba(data_X.iloc[:10, :]))"
   ]
  },
  {
   "cell_type": "code",
   "execution_count": 40,
   "metadata": {},
   "outputs": [
    {
     "data": {
      "text/html": [
       "<div>\n",
       "<style scoped>\n",
       "    .dataframe tbody tr th:only-of-type {\n",
       "        vertical-align: middle;\n",
       "    }\n",
       "\n",
       "    .dataframe tbody tr th {\n",
       "        vertical-align: top;\n",
       "    }\n",
       "\n",
       "    .dataframe thead th {\n",
       "        text-align: right;\n",
       "    }\n",
       "</style>\n",
       "<table border=\"1\" class=\"dataframe\">\n",
       "  <thead>\n",
       "    <tr style=\"text-align: right;\">\n",
       "      <th></th>\n",
       "      <th>attribute</th>\n",
       "      <th>value</th>\n",
       "    </tr>\n",
       "  </thead>\n",
       "  <tbody>\n",
       "    <tr>\n",
       "      <th>0</th>\n",
       "      <td>data_len</td>\n",
       "      <td>200</td>\n",
       "    </tr>\n",
       "    <tr>\n",
       "      <th>1</th>\n",
       "      <td>classes_priory</td>\n",
       "      <td>first : 0.5%,  second : 0.5%</td>\n",
       "    </tr>\n",
       "    <tr>\n",
       "      <th>2</th>\n",
       "      <td>smoothing_alpha</td>\n",
       "      <td>0.01</td>\n",
       "    </tr>\n",
       "    <tr>\n",
       "      <th>3</th>\n",
       "      <td>kde_on</td>\n",
       "      <td>True</td>\n",
       "    </tr>\n",
       "    <tr>\n",
       "      <th>4</th>\n",
       "      <td>bandwidth</td>\n",
       "      <td>2</td>\n",
       "    </tr>\n",
       "    <tr>\n",
       "      <th>5</th>\n",
       "      <td>categorical_threshold</td>\n",
       "      <td>10</td>\n",
       "    </tr>\n",
       "  </tbody>\n",
       "</table>\n",
       "</div>"
      ],
      "text/plain": [
       "               attribute                         value\n",
       "0               data_len                           200\n",
       "1         classes_priory  first : 0.5%,  second : 0.5%\n",
       "2        smoothing_alpha                          0.01\n",
       "3                 kde_on                          True\n",
       "4              bandwidth                             2\n",
       "5  categorical_threshold                            10"
      ]
     },
     "metadata": {},
     "output_type": "display_data"
    }
   ],
   "source": [
    "classifier.summary()"
   ]
  },
  {
   "cell_type": "code",
   "execution_count": null,
   "metadata": {},
   "outputs": [],
   "source": [
    "# if feat_type == 'discrete':\n",
    "#     rv = multinomial(self.__data_len, [0.3, 0.2, 0.5])\n",
    "#     rv.pmf([1, 3, 4])\n",
    "# elif feat_type == 'binomial':\n",
    "#     rv = binom(self.__data_len, feat.count(1))\n",
    "#     rv.pmf(18)\n",
    "# elif feat_type == 'continuous': \n",
    "#     mu = np.mean(feat)\n",
    "#     sigma = np.std(feat)\n",
    "#     dist = np.norm(mu, sigma)\n",
    "#     return dist"
   ]
  },
  {
   "cell_type": "code",
   "execution_count": 235,
   "metadata": {},
   "outputs": [
    {
     "data": {
      "image/png": "[encoded data removed]",
      "text/plain": [
       "<Figure size 432x288 with 1 Axes>"
      ]
     },
     "metadata": {
      "needs_background": "light"
     },
     "output_type": "display_data"
    }
   ],
   "source": [
    "# example of kernel density estimation for a bimodal data sample\n",
    "from matplotlib import pyplot\n",
    "from numpy.random import normal\n",
    "from numpy import hstack\n",
    "from numpy import asarray\n",
    "from numpy import exp\n",
    "from sklearn.neighbors import KernelDensity\n",
    "# generate a sample\n",
    "sample1 = normal(loc=20, scale=5, size=300)\n",
    "sample2 = normal(loc=40, scale=5, size=700)\n",
    "sample = hstack((sample1, sample2))\n",
    "# fit density\n",
    "model = KernelDensity(bandwidth=2, kernel='gaussian')\n",
    "sample = sample.reshape((len(sample), 1))\n",
    "model.fit(sample)\n",
    "# sample probabilities for a range of outcomes\n",
    "values = asarray([value for value in range(1, 60)])\n",
    "values = values.reshape((len(values), 1))\n",
    "probabilities = model.score_samples(values)\n",
    "probabilities = exp(probabilities)\n",
    "# plot the histogram and pdf\n",
    "pyplot.hist(sample, bins=50, density=True)\n",
    "pyplot.plot(values[:], probabilities)\n",
    "pyplot.show()"
   ]
  },
  {
   "cell_type": "code",
   "execution_count": 236,
   "metadata": {},
   "outputs": [
    {
     "data": {
      "text/plain": [
       "array([4.35547799e-06, 2.04689177e-05, 7.60725101e-05, 2.24811372e-04,\n",
       "       5.33196827e-04, 1.03126592e-03, 1.67218456e-03, 2.37928088e-03,\n",
       "       3.16509198e-03, 4.17473410e-03, 5.55992724e-03, 7.31733033e-03,\n",
       "       9.31604054e-03, 1.14966534e-02, 1.39379517e-02, 1.66322546e-02,\n",
       "       1.92403788e-02, 2.11666757e-02, 2.19186368e-02, 2.14355764e-02,\n",
       "       2.01353861e-02, 1.86436509e-02, 1.73986161e-02, 1.64500728e-02,\n",
       "       1.55935814e-02, 1.46529230e-02, 1.36516101e-02, 1.28148443e-02,\n",
       "       1.25060041e-02, 1.31736140e-02, 1.52347874e-02, 1.88037314e-02,\n",
       "       2.34618586e-02, 2.84461783e-02, 3.31996704e-02, 3.76772724e-02,\n",
       "       4.20507684e-02, 4.62283221e-02, 4.97658802e-02, 5.21173300e-02,\n",
       "       5.27810137e-02, 5.13248163e-02, 4.76175572e-02, 4.21136060e-02,\n",
       "       3.56935011e-02, 2.91604738e-02, 2.29793397e-02, 1.74034486e-02,\n",
       "       1.26311857e-02, 8.79489639e-03, 5.91321587e-03, 3.89927172e-03,\n",
       "       2.57414843e-03, 1.69844762e-03, 1.06950748e-03, 6.00094140e-04,\n",
       "       2.83480836e-04, 1.08889720e-04, 3.33833483e-05])"
      ]
     },
     "execution_count": 236,
     "metadata": {},
     "output_type": "execute_result"
    }
   ],
   "source": [
    "probabilities"
   ]
  },
  {
   "cell_type": "code",
   "execution_count": 276,
   "metadata": {},
   "outputs": [
    {
     "name": "stdout",
     "output_type": "stream",
     "text": [
      "Mean=50.076, Standard Deviation=5.050\n"
     ]
    },
    {
     "data": {
      "image/png": "[encoded data removed]",
      "text/plain": [
       "<Figure size 432x288 with 1 Axes>"
      ]
     },
     "metadata": {
      "needs_background": "light"
     },
     "output_type": "display_data"
    }
   ],
   "source": [
    "# example of parametric probability density estimation\n",
    "from matplotlib import pyplot\n",
    "from numpy.random import normal\n",
    "from numpy import mean\n",
    "from numpy import std\n",
    "from scipy.stats import norm\n",
    "# generate a sample\n",
    "sample = normal(loc=50, scale=5, size=200)\n",
    "# calculate parameters\n",
    "sample_mean = mean(sample)\n",
    "sample_std = std(sample)\n",
    "print('Mean=%.3f, Standard Deviation=%.3f' % (sample_mean, sample_std))\n",
    "# define the distribution\n",
    "dist = norm(sample_mean, sample_std)\n",
    "# sample probabilities for a range of outcomes\n",
    "values = [value for value in range(30, 70)]\n",
    "probabilities = [dist.pdf(value) for value in values]\n",
    "# plot the histogram and pdf\n",
    "pyplot.hist(sample, bins=10, density=True)\n",
    "pyplot.plot(values, probabilities)\n",
    "pyplot.show()"
   ]
  },
  {
   "cell_type": "code",
   "execution_count": 277,
   "metadata": {},
   "outputs": [
    {
     "data": {
      "text/plain": [
       "[2.9219733450516426e-05,\n",
       " 6.295974272644956e-05,\n",
       " 0.00013044245989375509,\n",
       " 0.0002598629452161861,\n",
       " 0.0004977818680079085,\n",
       " 0.0009168602206364859,\n",
       " 0.0016238149247847873,\n",
       " 0.002765280986845759,\n",
       " 0.004528051389483149,\n",
       " 0.007129396477744461,\n",
       " 0.010793530623720288,\n",
       " 0.015712439900868454,\n",
       " 0.021993435387215304,\n",
       " 0.02960137294096033,\n",
       " 0.038308926125790226,\n",
       " 0.047671349050594024,\n",
       " 0.057040621262567794,\n",
       " 0.0656266737004576,\n",
       " 0.07260154765303554,\n",
       " 0.07722905230106288,\n",
       " 0.0789923206928551,\n",
       " 0.07768879426051935,\n",
       " 0.07346850965170092,\n",
       " 0.06680568470757961,\n",
       " 0.05841104146051709,\n",
       " 0.04910727331409315,\n",
       " 0.039697762767017315,\n",
       " 0.030857133841569684,\n",
       " 0.023062929800967913,\n",
       " 0.016574586809222264,\n",
       " 0.011453554449875777,\n",
       " 0.007610395021581166,\n",
       " 0.004862319080067694,\n",
       " 0.002987095113122787,\n",
       " 0.0017645094483338714,\n",
       " 0.0010022320014270185,\n",
       " 0.0005473711252465337,\n",
       " 0.0002874516744139682,\n",
       " 0.0001451500341320772,\n",
       " 7.047560008491216e-05]"
      ]
     },
     "execution_count": 277,
     "metadata": {},
     "output_type": "execute_result"
    }
   ],
   "source": [
    "probabilities "
   ]
  },
  {
   "cell_type": "code",
   "execution_count": null,
   "metadata": {},
   "outputs": [],
   "source": []
  }
 ],
 "metadata": {
  "kernelspec": {
   "display_name": "Python 3",
   "language": "python",
   "name": "python3"
  },
  "language_info": {
   "codemirror_mode": {
    "name": "ipython",
    "version": 3
   },
   "file_extension": ".py",
   "mimetype": "text/x-python",
   "name": "python",
   "nbconvert_exporter": "python",
   "pygments_lexer": "ipython3",
   "version": "3.7.6"
  }
 },
 "nbformat": 4,
 "nbformat_minor": 4
}
