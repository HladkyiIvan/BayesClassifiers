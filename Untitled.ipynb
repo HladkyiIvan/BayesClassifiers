{
 "cells": [
  {
   "cell_type": "code",
   "execution_count": 19,
   "metadata": {},
   "outputs": [],
   "source": [
    "import camelot"
   ]
  },
  {
   "cell_type": "code",
   "execution_count": 14,
   "metadata": {},
   "outputs": [],
   "source": [
    "file = \"C:/Users/Ivan_Hladkyi/Downloads/filings-tabular/14471909.pdf\"\n",
    " \n",
    "tables = camelot.read_pdf(file, pages = \"5\")"
   ]
  },
  {
   "cell_type": "code",
   "execution_count": 15,
   "metadata": {},
   "outputs": [
    {
     "data": {
      "text/html": [
       "<div>\n",
       "<style scoped>\n",
       "    .dataframe tbody tr th:only-of-type {\n",
       "        vertical-align: middle;\n",
       "    }\n",
       "\n",
       "    .dataframe tbody tr th {\n",
       "        vertical-align: top;\n",
       "    }\n",
       "\n",
       "    .dataframe thead th {\n",
       "        text-align: right;\n",
       "    }\n",
       "</style>\n",
       "<table border=\"1\" class=\"dataframe\">\n",
       "  <thead>\n",
       "    <tr style=\"text-align: right;\">\n",
       "      <th></th>\n",
       "      <th>0</th>\n",
       "      <th>1</th>\n",
       "      <th>2</th>\n",
       "      <th>3</th>\n",
       "      <th>4</th>\n",
       "    </tr>\n",
       "  </thead>\n",
       "  <tbody>\n",
       "    <tr>\n",
       "      <th>0</th>\n",
       "      <td>Afdeling</td>\n",
       "      <td>Type</td>\n",
       "      <td>Stiftet</td>\n",
       "      <td>Investerer fortrinsvis i</td>\n",
       "      <td>Risikoprofil</td>\n",
       "    </tr>\n",
       "    <tr>\n",
       "      <th>1</th>\n",
       "      <td>Korte Obligationer</td>\n",
       "      <td>Udloddende</td>\n",
       "      <td>2001</td>\n",
       "      <td>Korte danske obligationer</td>\n",
       "      <td>Lav</td>\n",
       "    </tr>\n",
       "    <tr>\n",
       "      <th>2</th>\n",
       "      <td>Obligationer</td>\n",
       "      <td>Udloddende</td>\n",
       "      <td>1991</td>\n",
       "      <td>Danske obligationer</td>\n",
       "      <td>Lav</td>\n",
       "    </tr>\n",
       "    <tr>\n",
       "      <th>3</th>\n",
       "      <td>Lange Obligationer</td>\n",
       "      <td>Udloddende</td>\n",
       "      <td>2003</td>\n",
       "      <td>Lange danske obligationer</td>\n",
       "      <td>Lav til middel</td>\n",
       "    </tr>\n",
       "    <tr>\n",
       "      <th>4</th>\n",
       "      <td>Danmark</td>\n",
       "      <td>Udloddende</td>\n",
       "      <td>1989</td>\n",
       "      <td>Danske aktier</td>\n",
       "      <td>Middel</td>\n",
       "    </tr>\n",
       "    <tr>\n",
       "      <th>5</th>\n",
       "      <td>Europa</td>\n",
       "      <td>Udloddende</td>\n",
       "      <td>1985</td>\n",
       "      <td>Europæiske aktier</td>\n",
       "      <td>Middel</td>\n",
       "    </tr>\n",
       "    <tr>\n",
       "      <th>6</th>\n",
       "      <td>Verden</td>\n",
       "      <td>Udloddende</td>\n",
       "      <td>1986</td>\n",
       "      <td>Globale aktier</td>\n",
       "      <td>Middel</td>\n",
       "    </tr>\n",
       "    <tr>\n",
       "      <th>7</th>\n",
       "      <td>Nordamerika</td>\n",
       "      <td>Udloddende</td>\n",
       "      <td>2002</td>\n",
       "      <td>Nordamerikanske aktier</td>\n",
       "      <td>Middel +</td>\n",
       "    </tr>\n",
       "    <tr>\n",
       "      <th>8</th>\n",
       "      <td>Danske Aktier Pension</td>\n",
       "      <td>Udloddende \\n*)</td>\n",
       "      <td>2002</td>\n",
       "      <td>Danske Aktier</td>\n",
       "      <td>Middel</td>\n",
       "    </tr>\n",
       "  </tbody>\n",
       "</table>\n",
       "</div>"
      ],
      "text/plain": [
       "                       0                1        2                          3  \\\n",
       "0               Afdeling             Type  Stiftet   Investerer fortrinsvis i   \n",
       "1     Korte Obligationer       Udloddende     2001  Korte danske obligationer   \n",
       "2           Obligationer       Udloddende     1991        Danske obligationer   \n",
       "3     Lange Obligationer       Udloddende     2003  Lange danske obligationer   \n",
       "4                Danmark       Udloddende     1989              Danske aktier   \n",
       "5                 Europa       Udloddende     1985          Europæiske aktier   \n",
       "6                 Verden       Udloddende     1986             Globale aktier   \n",
       "7            Nordamerika       Udloddende     2002     Nordamerikanske aktier   \n",
       "8  Danske Aktier Pension  Udloddende \\n*)     2002              Danske Aktier   \n",
       "\n",
       "                4  \n",
       "0    Risikoprofil  \n",
       "1             Lav  \n",
       "2             Lav  \n",
       "3  Lav til middel  \n",
       "4          Middel  \n",
       "5          Middel  \n",
       "6          Middel  \n",
       "7        Middel +  \n",
       "8          Middel  "
      ]
     },
     "execution_count": 15,
     "metadata": {},
     "output_type": "execute_result"
    }
   ],
   "source": [
    "tables[0].df"
   ]
  },
  {
   "cell_type": "code",
   "execution_count": 17,
   "metadata": {},
   "outputs": [],
   "source": [
    "file = \"C:/Users/Ivan_Hladkyi/Downloads/filings-tabular/53321675.pdf\"\n",
    " \n",
    "tables = camelot.read_pdf(file, pages = \"25\")"
   ]
  },
  {
   "cell_type": "code",
   "execution_count": 18,
   "metadata": {},
   "outputs": [
    {
     "ename": "IndexError",
     "evalue": "list index out of range",
     "output_type": "error",
     "traceback": [
      "\u001b[1;31m---------------------------------------------------------------------------\u001b[0m",
      "\u001b[1;31mIndexError\u001b[0m                                Traceback (most recent call last)",
      "\u001b[1;32m<ipython-input-18-513758e602ed>\u001b[0m in \u001b[0;36m<module>\u001b[1;34m\u001b[0m\n\u001b[1;32m----> 1\u001b[1;33m \u001b[0mtables\u001b[0m\u001b[1;33m[\u001b[0m\u001b[1;36m0\u001b[0m\u001b[1;33m]\u001b[0m\u001b[1;33m.\u001b[0m\u001b[0mdf\u001b[0m\u001b[1;33m\u001b[0m\u001b[1;33m\u001b[0m\u001b[0m\n\u001b[0m",
      "\u001b[1;32mc:\\users\\ivan_hladkyi\\appdata\\local\\programs\\python\\python37\\lib\\site-packages\\camelot\\core.py\u001b[0m in \u001b[0;36m__getitem__\u001b[1;34m(self, idx)\u001b[0m\n\u001b[0;32m    677\u001b[0m \u001b[1;33m\u001b[0m\u001b[0m\n\u001b[0;32m    678\u001b[0m     \u001b[1;32mdef\u001b[0m \u001b[0m__getitem__\u001b[0m\u001b[1;33m(\u001b[0m\u001b[0mself\u001b[0m\u001b[1;33m,\u001b[0m \u001b[0midx\u001b[0m\u001b[1;33m)\u001b[0m\u001b[1;33m:\u001b[0m\u001b[1;33m\u001b[0m\u001b[1;33m\u001b[0m\u001b[0m\n\u001b[1;32m--> 679\u001b[1;33m         \u001b[1;32mreturn\u001b[0m \u001b[0mself\u001b[0m\u001b[1;33m.\u001b[0m\u001b[0m_tables\u001b[0m\u001b[1;33m[\u001b[0m\u001b[0midx\u001b[0m\u001b[1;33m]\u001b[0m\u001b[1;33m\u001b[0m\u001b[1;33m\u001b[0m\u001b[0m\n\u001b[0m\u001b[0;32m    680\u001b[0m \u001b[1;33m\u001b[0m\u001b[0m\n\u001b[0;32m    681\u001b[0m     \u001b[1;33m@\u001b[0m\u001b[0mstaticmethod\u001b[0m\u001b[1;33m\u001b[0m\u001b[1;33m\u001b[0m\u001b[0m\n",
      "\u001b[1;31mIndexError\u001b[0m: list index out of range"
     ]
    }
   ],
   "source": [
    "tables[0].df"
   ]
  },
  {
   "cell_type": "code",
   "execution_count": null,
   "metadata": {},
   "outputs": [],
   "source": []
  }
 ],
 "metadata": {
  "kernelspec": {
   "display_name": "Python 3",
   "language": "python",
   "name": "python3"
  },
  "language_info": {
   "codemirror_mode": {
    "name": "ipython",
    "version": 3
   },
   "file_extension": ".py",
   "mimetype": "text/x-python",
   "name": "python",
   "nbconvert_exporter": "python",
   "pygments_lexer": "ipython3",
   "version": "3.7.6"
  }
 },
 "nbformat": 4,
 "nbformat_minor": 4
}
