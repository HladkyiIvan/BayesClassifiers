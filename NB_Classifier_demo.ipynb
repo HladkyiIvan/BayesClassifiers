{
 "cells": [
  {
   "cell_type": "markdown",
   "metadata": {},
   "source": [
    "# Naive Bayes Classifier"
   ]
  },
  {
   "cell_type": "code",
   "execution_count": 1,
   "metadata": {},
   "outputs": [
    {
     "name": "stdout",
     "output_type": "stream",
     "text": [
      "(200, 2) (200,)\n",
      "[[-10.8278844   -4.83392615]\n",
      " [-11.18003063  -4.61910307]\n",
      " [-10.55520723  -3.0141798 ]\n",
      " [ -1.42706535   5.08904128]\n",
      " [ -8.16299488  -3.38896569]]\n",
      "[1 1 1 0 1]\n"
     ]
    }
   ],
   "source": [
    "from sklearn.datasets import make_blobs\n",
    "# generate 2d classification dataset\n",
    "X, y = make_blobs(n_samples=200, centers=2, n_features=2, random_state=1)\n",
    "# summarize\n",
    "print(X.shape, y.shape)\n",
    "print(X[:5])\n",
    "print(y[:5])"
   ]
  },
  {
   "cell_type": "code",
   "execution_count": 21,
   "metadata": {},
   "outputs": [
    {
     "data": {
      "text/plain": [
       "<matplotlib.legend.Legend at 0x1f5157078c8>"
      ]
     },
     "execution_count": 21,
     "metadata": {},
     "output_type": "execute_result"
    },
    {
     "data": {
      "image/png": "[encoded data removed]",
      "text/plain": [
       "<Figure size 432x288 with 1 Axes>"
      ]
     },
     "metadata": {
      "needs_background": "light"
     },
     "output_type": "display_data"
    }
   ],
   "source": [
    "import matplotlib.pyplot as plt\n",
    "\n",
    "fig, ax = plt.subplots()\n",
    "\n",
    "ax.scatter(X[y == 0, 0], X[y == 0, 1], c = 'red', label='class 0')\n",
    "ax.scatter(X[y == 1, 0], X[y == 1, 1], c = 'blue', label='class 1')\n",
    "ax.set_title('Data X')\n",
    "ax.set_xlabel('var0', fontsize=12)\n",
    "ax.set_ylabel('var1', fontsize=12)\n",
    "ax.legend()"
   ]
  },
  {
   "cell_type": "code",
   "execution_count": 3,
   "metadata": {},
   "outputs": [
    {
     "name": "stdout",
     "output_type": "stream",
     "text": [
      "(100, 2) (100, 2)\n"
     ]
    }
   ],
   "source": [
    "# Sort data into 2 datasets\n",
    "Xy0 = X[y == 0]\n",
    "Xy1 = X[y == 1]\n",
    "print(Xy0.shape, Xy1.shape)"
   ]
  },
  {
   "cell_type": "code",
   "execution_count": 4,
   "metadata": {},
   "outputs": [
    {
     "name": "stdout",
     "output_type": "stream",
     "text": [
      "0.5 0.5\n"
     ]
    }
   ],
   "source": [
    "# Calculate prior probabilities\n",
    "priory0 = len(Xy0) / len(X)\n",
    "priory1 = len(Xy1) / len(X)\n",
    "print(priory0, priory1)"
   ]
  },
  {
   "cell_type": "code",
   "execution_count": 5,
   "metadata": {},
   "outputs": [],
   "source": [
    "from scipy.stats import norm\n",
    "from numpy import mean\n",
    "from numpy import std\n",
    "from numpy import log\n",
    "\n",
    "# Fit a probability distribution to a univariate data sample\n",
    "def fit_distribution(data):\n",
    "    mu = mean(data)\n",
    "    sigma = std(data)\n",
    "    print(mu, sigma)\n",
    "    dist = norm(mu, sigma)\n",
    "    return dist"
   ]
  },
  {
   "cell_type": "code",
   "execution_count": 6,
   "metadata": {},
   "outputs": [
    {
     "name": "stdout",
     "output_type": "stream",
     "text": [
      "-1.453156696730447 0.8497391581403734\n",
      "4.40756967408747 0.9448501199593555\n",
      "-10.082794464327042 1.0642444414521337\n",
      "-3.895339971286504 1.004435942839403\n"
     ]
    }
   ],
   "source": [
    "# Create probability distribution functions for all datasets\n",
    "X0y0 = fit_distribution(Xy0[:, 0])\n",
    "X1y0 = fit_distribution(Xy0[:, 1])\n",
    "\n",
    "X0y1 = fit_distribution(Xy1[:, 0])\n",
    "X1y1 = fit_distribution(Xy1[:, 1])"
   ]
  },
  {
   "cell_type": "code",
   "execution_count": 35,
   "metadata": {},
   "outputs": [],
   "source": [
    "# Calculate the independent conditional probability\n",
    "def get_class_score(example, prior, dist1, dist2):\n",
    "    return log(prior) + log(dist1.pdf(example[0])) + log(dist2.pdf(example[1]))"
   ]
  },
  {
   "cell_type": "code",
   "execution_count": 40,
   "metadata": {},
   "outputs": [
    {
     "name": "stdout",
     "output_type": "stream",
     "text": [
      "P(y=0 | [-8.16299488 -3.38896569  2.        ]) = -67.532\n",
      "P(y=1 | [-8.16299488 -3.38896569  2.        ]) = -4.352\n",
      "True class: 1\n"
     ]
    }
   ],
   "source": [
    "# Create one sample\n",
    "example, label = X[4], y[4]\n",
    "py0 = get_class_score(example, priory0, X0y0, X1y0)\n",
    "py1 = get_class_score(example, priory1, X0y1, X1y1)\n",
    "print('P(y=0 | %s) = %.3f' % (example, py0))\n",
    "print('P(y=1 | %s) = %.3f' % (example, py1))\n",
    "print(f'True class: {label}')"
   ]
  },
  {
   "cell_type": "code",
   "execution_count": 9,
   "metadata": {},
   "outputs": [
    {
     "name": "stdout",
     "output_type": "stream",
     "text": [
      "1.743528016750847e-27\n",
      "1.4647211929149902e-57\n",
      "0.29338140322424655\n",
      "1.798165887778909e-11\n"
     ]
    }
   ],
   "source": [
    "print(X0y0.pdf(example[0]))\n",
    "print(X1y0.pdf(example[0]))\n",
    "print(X0y1.pdf(example[0]))\n",
    "print(X1y1.pdf(example[0]))"
   ]
  },
  {
   "cell_type": "code",
   "execution_count": 11,
   "metadata": {},
   "outputs": [],
   "source": [
    "import numpy as np"
   ]
  },
  {
   "cell_type": "code",
   "execution_count": 12,
   "metadata": {},
   "outputs": [
    {
     "data": {
      "text/plain": [
       "array([1, 1, 1, 1, 1, 1, 3, 0, 1, 1, 2, 2, 0, 0, 3, 1, 0, 1, 1, 2, 2, 3,\n",
       "       3, 1, 0, 3, 3, 1, 1, 3, 1, 2, 1, 0, 4, 1, 3, 2, 0, 4, 2, 4, 4, 1,\n",
       "       2, 4, 3, 1, 0, 3, 1, 0, 1, 2, 3, 2, 2, 2, 1, 2, 2, 3, 2, 3, 3, 1,\n",
       "       4, 2, 4, 1, 1, 0, 0, 0, 2, 4, 4, 1, 3, 0, 0, 1, 1, 4, 1, 0, 1, 3,\n",
       "       4, 2, 0, 2, 3, 2, 0, 0, 4, 2, 1, 2, 1, 1, 1, 4, 3, 3, 1, 4, 0, 2,\n",
       "       1, 2, 0, 3, 1, 0, 0, 0, 3, 0, 0, 2, 2, 0, 4, 3, 1, 4, 1, 3, 2, 2,\n",
       "       3, 4, 1, 1, 1, 2, 0, 4, 4, 4, 4, 0, 0, 0, 1, 0, 3, 3, 2, 3, 4, 0,\n",
       "       0, 2, 2, 1, 0, 0, 2, 2, 4, 4, 4, 3, 3, 1, 1, 3, 0, 0, 3, 3, 0, 1,\n",
       "       0, 3, 3, 0, 1, 0, 3, 2, 2, 4, 0, 2, 1, 1, 3, 2, 0, 0, 0, 2, 3, 2,\n",
       "       0, 4])"
      ]
     },
     "execution_count": 12,
     "metadata": {},
     "output_type": "execute_result"
    }
   ],
   "source": [
    "np.random.randint(5, size=200)"
   ]
  },
  {
   "cell_type": "code",
   "execution_count": 14,
   "metadata": {},
   "outputs": [
    {
     "data": {
      "text/plain": [
       "(200, 2)"
      ]
     },
     "execution_count": 14,
     "metadata": {},
     "output_type": "execute_result"
    }
   ],
   "source": [
    "X.shape"
   ]
  },
  {
   "cell_type": "code",
   "execution_count": 20,
   "metadata": {},
   "outputs": [],
   "source": [
    "X = np.append(X, np.random.randint(5, size=(200,1 )), axis = 1)"
   ]
  },
  {
   "cell_type": "code",
   "execution_count": null,
   "metadata": {},
   "outputs": [],
   "source": []
  }
 ],
 "metadata": {
  "kernelspec": {
   "display_name": "Python 3",
   "language": "python",
   "name": "python3"
  },
  "language_info": {
   "codemirror_mode": {
    "name": "ipython",
    "version": 3
   },
   "file_extension": ".py",
   "mimetype": "text/x-python",
   "name": "python",
   "nbconvert_exporter": "python",
   "pygments_lexer": "ipython3",
   "version": "3.7.6"
  }
 },
 "nbformat": 4,
 "nbformat_minor": 4
}
