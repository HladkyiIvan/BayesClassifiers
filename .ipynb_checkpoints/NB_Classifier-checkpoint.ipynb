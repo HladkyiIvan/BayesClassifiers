{
 "cells": [
  {
   "cell_type": "markdown",
   "metadata": {},
   "source": [
    "# Generate Samples"
   ]
  },
  {
   "cell_type": "code",
   "execution_count": 1,
   "metadata": {},
   "outputs": [
    {
     "name": "stdout",
     "output_type": "stream",
     "text": [
      "(200, 2) (200,)\n",
      "[[-10.8278844   -4.83392615]\n",
      " [-11.18003063  -4.61910307]\n",
      " [-10.55520723  -3.0141798 ]\n",
      " [ -1.42706535   5.08904128]\n",
      " [ -8.16299488  -3.38896569]]\n",
      "[1 1 1 0 1]\n"
     ]
    }
   ],
   "source": [
    "from sklearn.datasets import make_blobs\n",
    "# generate 2d classification dataset\n",
    "X, y = make_blobs(n_samples=200, centers=2, n_features=2, random_state=1)\n",
    "# summarize\n",
    "print(X.shape, y.shape)\n",
    "print(X[:5])\n",
    "print(y[:5])"
   ]
  },
  {
   "cell_type": "code",
   "execution_count": 2,
   "metadata": {},
   "outputs": [
    {
     "data": {
      "text/plain": [
       "<matplotlib.legend.Legend at 0x1f837b012c8>"
      ]
     },
     "execution_count": 2,
     "metadata": {},
     "output_type": "execute_result"
    },
    {
     "data": {
      "image/png": "[encoded data removed]",
      "text/plain": [
       "<Figure size 432x288 with 1 Axes>"
      ]
     },
     "metadata": {
      "needs_background": "light"
     },
     "output_type": "display_data"
    }
   ],
   "source": [
    "import matplotlib.pyplot as plt\n",
    "\n",
    "fig, ax = plt.subplots()\n",
    "\n",
    "ax.scatter(X[y == 0, 0], X[y == 0, 1], c = 'red', label='class 0')\n",
    "ax.scatter(X[y == 1, 0], X[y == 1, 1], c = 'blue', label='class 1')\n",
    "ax.set_title('Data X')\n",
    "ax.set_xlabel('var0', fontsize=12)\n",
    "ax.set_ylabel('var1', fontsize=12)\n",
    "ax.legend()"
   ]
  },
  {
   "cell_type": "markdown",
   "metadata": {},
   "source": [
    "# Naive Bayes Classifier "
   ]
  },
  {
   "cell_type": "code",
   "execution_count": 3,
   "metadata": {},
   "outputs": [],
   "source": [
    "from scipy.stats import norm\n",
    "from sklearn.neighbors import KernelDensity\n",
    "import numpy as np\n",
    "import pandas as pd\n",
    "\n",
    "class NaiveBayesClassifier:\n",
    "    def __init__(self, smoothing_alpha = 0.01, kernel = None, bandwidth = 2.):\n",
    "        if not isinstance(smoothing_alpha, float):\n",
    "            raise TypeError('smoothing_alpha should have float type.')\n",
    "        if not isinstance(kernel, str) and kernel != None:\n",
    "            raise TypeError('kernel should have str type.')\n",
    "        if not isinstance(bandwidth, float):\n",
    "            raise TypeError('bandwidth should have float type.')\n",
    "            \n",
    "        assert smoothing_alpha > 0., 'smoothing_alpha should be higher than 0.'\n",
    "        assert kernel in [None, 'gaussian', 'tophat', 'epanechnikov', 'exponential', 'linear', 'cosine'], \"kernel should be None or one of 'gaussian'|'tophat'|'epanechnikov'|'exponential'|linear'|'cosine'\"\n",
    "        assert bandwidth > 0., 'bandwidth should be higher than 0.'\n",
    "            \n",
    "        self.__classes_priory = []\n",
    "        self.__features_info = {}\n",
    "        self.__smoothing_alpha = smoothing_alpha\n",
    "        self.__kernel = kernel\n",
    "        self.__bandwidth = bandwidth\n",
    "\n",
    "    def fit(self, X, y):\n",
    "        self.__check_dataframe(X, 'X_train')\n",
    "        self.__check_dataframe(y, 'y_train')\n",
    "        \n",
    "        self.__data_len = len(y)\n",
    "        self.__classes = np.sort(np.unique(y))\n",
    "        self.__num_classes = len(self.__classes)\n",
    "        self.__categorical_threshold = round(np.sqrt(self.__data_len * 0.5)) # empirical formula\n",
    "        \n",
    "        self.__set_classes_priory(y)\n",
    "        \n",
    "        for feat in X.columns:\n",
    "            self.__set_feature_info(feat, X[feat].values, np.squeeze(y.values))\n",
    "        \n",
    "    \n",
    "    def __set_classes_priory(self, y):\n",
    "        for cl in self.__classes:\n",
    "            self.__classes_priory.append(np.sum(y.values == cl) / self.__data_len)\n",
    "            \n",
    "    \n",
    "    def __set_feature_info(self, feature_name, feature_col, target_col):\n",
    "        self.__features_info[feature_name] = {}\n",
    "        feat_type = ''\n",
    "        feat_unique_count = len(np.unique(feature_col))\n",
    "        \n",
    "        if feat_unique_count < self.__categorical_threshold :\n",
    "            feat_type = 'discrete'\n",
    "            self.__features_info[feature_name]['categories_proba'] = {}\n",
    "            self.__features_info[feature_name]['num_categories'] = feat_unique_count\n",
    "            \n",
    "            for category in np.sort(np.unique(feature_col)):\n",
    "                self.__features_info[feature_name]['categories_proba'][category] = []\n",
    "                \n",
    "                for cl in self.__classes:\n",
    "                    self.__features_info[feature_name]['categories_proba'][category].append(\n",
    "                        self.__get_category_proba_for_class(feature_col[target_col == cl], category, feat_unique_count))\n",
    "        else:\n",
    "            feat_type = 'continuous'\n",
    "            self.__features_info[feature_name]['dist'] = []\n",
    "            \n",
    "            for cl in self.__classes:\n",
    "                self.__features_info[feature_name]['dist'].append(\n",
    "                    self.__get_continuous_feature_parameters(feature_col[target_col == cl]))\n",
    "            \n",
    "        self.__features_info[feature_name]['type'] = feat_type\n",
    "        \n",
    "    \n",
    "    def __get_category_proba_for_class(self, class_feature_col, category, feat_unique_count):\n",
    "        numerator = np.sum(class_feature_col == category) + self.__smoothing_alpha\n",
    "        #---------  ----------------------------------------------------------\n",
    "        denominator = class_feature_col.shape[0] + feat_unique_count * self.__smoothing_alpha\n",
    "        \n",
    "        smoothed_proba = numerator/denominator\n",
    "        return smoothed_proba\n",
    "        \n",
    "\n",
    "    def __get_continuous_feature_parameters(self, class_feature_col):\n",
    "        if self.__kernel:\n",
    "            dist = KernelDensity(bandwidth=self.__bandwidth, kernel=self.__kernel)\n",
    "            dist.fit(class_feature_col.reshape(len(class_feature_col), 1))\n",
    "        else:\n",
    "            mu = np.mean(class_feature_col)\n",
    "            sigma = np.std(class_feature_col)\n",
    "            dist = norm(mu, sigma)\n",
    "        return dist\n",
    "        \n",
    "    \n",
    "    def predict(self, data):\n",
    "        self.__check_dataframe(data, 'dataset')\n",
    "        return data.apply(lambda row: self.__get_single_prediction(row, 'class'), axis = 1).to_numpy()\n",
    "\n",
    "    \n",
    "    def predict_proba(self, data, normalize = True):\n",
    "        self.__check_dataframe(data, 'dataset')\n",
    "        predictions = np.matrix(data.apply(lambda row: self.__get_single_prediction(row, 'proba'), axis = 1).tolist())\n",
    "        \n",
    "        if normalize:\n",
    "            return np.apply_along_axis(self.__normalize_proba, 1, predictions)\n",
    "        \n",
    "        return predictions\n",
    "    \n",
    "    \n",
    "    def __normalize_proba(self, pred):\n",
    "        pred_sum = np.sum(pred)\n",
    "        \n",
    "        for i in range(len(pred)):\n",
    "            pred[i] /= pred_sum\n",
    "        \n",
    "        return pred\n",
    "    \n",
    "    \n",
    "    def predict_log(self, data):\n",
    "        self.__check_dataframe(data, 'dataset')\n",
    "        return np.matrix(data.apply(lambda row: self.__get_single_prediction(row, 'log'), axis = 1).tolist())\n",
    "        \n",
    "    \n",
    "    def __get_single_prediction(self, example, pred_type = 'proba'):\n",
    "        results = []\n",
    "        for i in range(len(self.__classes)):\n",
    "            if pred_type == 'log':\n",
    "                results.append(np.log(self.__classes_priory[i]))\n",
    "            else:\n",
    "                results.append(self.__classes_priory[i])\n",
    "            \n",
    "            for key, value in self.__features_info.items():\n",
    "                feature_proba = 0\n",
    "                \n",
    "                if value['type'] == 'discrete':\n",
    "                    feature_proba = value['categories_proba'][example[key]][i]\n",
    "                elif value['type'] == 'continuous':\n",
    "                    if self.__kernel:\n",
    "                        feature_proba = np.exp(value['dist'][i].score_samples(np.float64(example[key]).reshape(1, -1))[0])\n",
    "                    else:\n",
    "                        feature_proba = value['dist'][i].pdf(example[key])\n",
    "                \n",
    "                if pred_type == 'log':\n",
    "                    results[i] += np.log(feature_proba)\n",
    "                else:\n",
    "                    results[i] *= feature_proba\n",
    "                \n",
    "        if pred_type == 'class':\n",
    "            return np.argmax(results)\n",
    "        \n",
    "        return results\n",
    "    \n",
    "    \n",
    "    def get_params(self):\n",
    "        return {'data_len': self.__data_len,\n",
    "                'classes_priory': self.__classes_priory, \n",
    "                'smoothing_alpha': self.__smoothing_alpha, \n",
    "                'kernel': self.__kernel, \n",
    "                'bandwidth': self.__bandwidth, \n",
    "                'categorical_threshold': self.__categorical_threshold,\n",
    "                'features_info': self.__features_info}\n",
    "    \n",
    "    \n",
    "    def __check_dataframe(self, df, df_name):\n",
    "        if not isinstance(df, pd.DataFrame):\n",
    "            raise TypeError(f\"{df_name} should have type pd.DataFrame.\")\n",
    "            \n",
    "        assert not df.isnull().values.any(), f\"{df_name} should not contain NaN values.\"\n",
    "        \n",
    "        for column in df.columns:\n",
    "            assert not pd.api.types.infer_dtype(df[column]).startswith('mixed'), f\"Column '{column}' of {df_name} should not contain mixed type of values.\"\n",
    "        \n",
    "        "
   ]
  },
  {
   "cell_type": "code",
   "execution_count": null,
   "metadata": {},
   "outputs": [],
   "source": [
    "from scipy.stats import norm\n",
    "from sklearn.neighbors import KernelDensity\n",
    "import numpy as np\n",
    "import pandas as pd\n",
    "\n",
    "class BayesClassifier:\n",
    "    def __init__(self, is_linear = False):\n",
    "        if not isinstance(is_linear, bool):\n",
    "            raise TypeError('is_linear should have float boolean.')\n",
    "            \n",
    "        self.__classes_priory = []\n",
    "        self.__features_info = {}\n",
    "        self.__is_linear = is_linear\n",
    "\n",
    "    def fit(self, X, y):\n",
    "        self.__check_dataframe(X, 'X_train')\n",
    "        self.__check_dataframe(y, 'y_train')\n",
    "        \n",
    "        self.__data_len = len(y)\n",
    "        self.__classes = np.sort(np.unique(y))\n",
    "        self.__num_classes = len(self.__classes)\n",
    "        self.__categorical_threshold = round(np.sqrt(self.__data_len * 0.5)) # empirical formula\n",
    "        \n",
    "        self.__set_classes_priory(y)\n",
    "        \n",
    "        for feat in X.columns:\n",
    "            self.__set_feature_info(feat, X[feat].values, np.squeeze(y.values))\n",
    "        \n",
    "    \n",
    "    def __set_classes_priory(self, y):\n",
    "        for cl in self.__classes:\n",
    "            self.__classes_priory.append(np.sum(y.values == cl) / self.__data_len)\n",
    "            \n",
    "    \n",
    "    def __set_feature_info(self, feature_name, feature_col, target_col):\n",
    "        self.__features_info[feature_name] = {}\n",
    "        feat_type = ''\n",
    "        feat_unique_count = len(np.unique(feature_col))\n",
    "        \n",
    "        if feat_unique_count < self.__categorical_threshold :\n",
    "            feat_type = 'discrete'\n",
    "            self.__features_info[feature_name]['categories_proba'] = {}\n",
    "            self.__features_info[feature_name]['num_categories'] = feat_unique_count\n",
    "            \n",
    "            for category in np.sort(np.unique(feature_col)):\n",
    "                self.__features_info[feature_name]['categories_proba'][category] = []\n",
    "                \n",
    "                for cl in self.__classes:\n",
    "                    self.__features_info[feature_name]['categories_proba'][category].append(\n",
    "                        self.__get_category_proba_for_class(feature_col[target_col == cl], category, feat_unique_count))\n",
    "        else:\n",
    "            feat_type = 'continuous'\n",
    "            self.__features_info[feature_name]['dist'] = []\n",
    "            \n",
    "            for cl in self.__classes:\n",
    "                self.__features_info[feature_name]['dist'].append(\n",
    "                    self.__get_continuous_feature_parameters(feature_col[target_col == cl]))\n",
    "            \n",
    "        self.__features_info[feature_name]['type'] = feat_type\n",
    "        \n",
    "    \n",
    "    def __get_category_proba_for_class(self, class_feature_col, category, feat_unique_count):\n",
    "        numerator = np.sum(class_feature_col == category) + self.__smoothing_alpha\n",
    "        #---------  ----------------------------------------------------------\n",
    "        denominator = class_feature_col.shape[0] + feat_unique_count * self.__smoothing_alpha\n",
    "        \n",
    "        smoothed_proba = numerator/denominator\n",
    "        return smoothed_proba\n",
    "        \n",
    "\n",
    "    def __get_continuous_feature_parameters(self, class_feature_col):\n",
    "        if self.__kernel:\n",
    "            dist = KernelDensity(bandwidth=self.__bandwidth, kernel=self.__kernel)\n",
    "            dist.fit(class_feature_col.reshape(len(class_feature_col), 1))\n",
    "        else:\n",
    "            mu = np.mean(class_feature_col)\n",
    "            sigma = np.std(class_feature_col)\n",
    "            dist = norm(mu, sigma)\n",
    "        return dist\n",
    "        \n",
    "    \n",
    "    def predict(self, data):\n",
    "        self.__check_dataframe(data, 'dataset')\n",
    "        return data.apply(lambda row: self.__get_single_prediction(row, 'class'), axis = 1).to_numpy()\n",
    "\n",
    "    \n",
    "    def predict_proba(self, data, normalize = True):\n",
    "        self.__check_dataframe(data, 'dataset')\n",
    "        predictions = np.matrix(data.apply(lambda row: self.__get_single_prediction(row, 'proba'), axis = 1).tolist())\n",
    "        \n",
    "        if normalize:\n",
    "            return np.apply_along_axis(self.__normalize_proba, 1, predictions)\n",
    "        \n",
    "        return predictions\n",
    "    \n",
    "    \n",
    "    def __normalize_proba(self, pred):\n",
    "        pred_sum = np.sum(pred)\n",
    "        \n",
    "        for i in range(len(pred)):\n",
    "            pred[i] /= pred_sum\n",
    "        \n",
    "        return pred\n",
    "    \n",
    "    \n",
    "    def predict_log(self, data):\n",
    "        self.__check_dataframe(data, 'dataset')\n",
    "        return np.matrix(data.apply(lambda row: self.__get_single_prediction(row, 'log'), axis = 1).tolist())\n",
    "        \n",
    "    \n",
    "    def __get_single_prediction(self, example, pred_type = 'proba'):\n",
    "        results = []\n",
    "        for i in range(len(self.__classes)):\n",
    "            if pred_type == 'log':\n",
    "                results.append(np.log(self.__classes_priory[i]))\n",
    "            else:\n",
    "                results.append(self.__classes_priory[i])\n",
    "            \n",
    "            for key, value in self.__features_info.items():\n",
    "                feature_proba = 0\n",
    "                \n",
    "                if value['type'] == 'discrete':\n",
    "                    feature_proba = value['categories_proba'][example[key]][i]\n",
    "                elif value['type'] == 'continuous':\n",
    "                    if self.__kernel:\n",
    "                        feature_proba = np.exp(value['dist'][i].score_samples(np.float64(example[key]).reshape(1, -1))[0])\n",
    "                    else:\n",
    "                        feature_proba = value['dist'][i].pdf(example[key])\n",
    "                \n",
    "                if pred_type == 'log':\n",
    "                    results[i] += np.log(feature_proba)\n",
    "                else:\n",
    "                    results[i] *= feature_proba\n",
    "                \n",
    "        if pred_type == 'class':\n",
    "            return np.argmax(results)\n",
    "        \n",
    "        return results\n",
    "    \n",
    "    \n",
    "    def get_params(self):\n",
    "        return {'data_len': self.__data_len,\n",
    "                'classes_priory': self.__classes_priory, \n",
    "                'smoothing_alpha': self.__smoothing_alpha, \n",
    "                'kernel': self.__kernel, \n",
    "                'bandwidth': self.__bandwidth, \n",
    "                'categorical_threshold': self.__categorical_threshold,\n",
    "                'features_info': self.__features_info}\n",
    "    \n",
    "    \n",
    "    def __check_dataframe(self, df, df_name):\n",
    "        if not isinstance(df, pd.DataFrame):\n",
    "            raise TypeError(f\"{df_name} should have type pd.DataFrame.\")\n",
    "            \n",
    "        assert not df.isnull().values.any(), f\"{df_name} should not contain NaN values.\"\n",
    "        \n",
    "        for column in df.columns:\n",
    "            assert not pd.api.types.infer_dtype(df[column]).startswith('mixed'), f\"Column '{column}' of {df_name} should not contain mixed type of values.\"\n",
    "        \n",
    "        "
   ]
  },
  {
   "cell_type": "code",
   "execution_count": 4,
   "metadata": {},
   "outputs": [],
   "source": [
    "np.random.seed(1)\n",
    "data_X = pd.DataFrame(np.append(X, np.random.randint(5, size=(200,1 )), axis = 1), columns=['var1', 'var2', 'var3'])\n",
    "data_y = pd.DataFrame(y, columns=['training_class'])"
   ]
  },
  {
   "cell_type": "code",
   "execution_count": 5,
   "metadata": {},
   "outputs": [],
   "source": [
    "data_X['var3'] = data_y.values\n",
    "data_X.loc[:19, 'var3'] = np.ones(20)\n",
    "data_X.loc[20:39, 'var3'] = np.zeros(20)"
   ]
  },
  {
   "cell_type": "code",
   "execution_count": 6,
   "metadata": {},
   "outputs": [],
   "source": [
    "classifier = NaiveBayesClassifier()\n",
    "classifier.fit(data_X, data_y)"
   ]
  },
  {
   "cell_type": "code",
   "execution_count": 7,
   "metadata": {},
   "outputs": [
    {
     "name": "stdout",
     "output_type": "stream",
     "text": [
      "[1 0 1]\n",
      "[[ -88.86013684   -5.22233997]\n",
      " [  -5.56548938  -78.02422345]\n",
      " [-111.28053304   -4.49453724]]\n"
     ]
    }
   ],
   "source": [
    "print(y[5:8])\n",
    "print(classifier.predict_log(data_X.iloc[5:8, :]))"
   ]
  },
  {
   "cell_type": "code",
   "execution_count": 8,
   "metadata": {},
   "outputs": [
    {
     "data": {
      "text/plain": [
       "{'var1': {'dist': [<scipy.stats._distn_infrastructure.rv_frozen at 0x1f837bf1f08>,\n",
       "   <scipy.stats._distn_infrastructure.rv_frozen at 0x1f834e75f08>],\n",
       "  'type': 'continuous'},\n",
       " 'var2': {'dist': [<scipy.stats._distn_infrastructure.rv_frozen at 0x1f837b39548>,\n",
       "   <scipy.stats._distn_infrastructure.rv_frozen at 0x1f834449e48>],\n",
       "  'type': 'continuous'},\n",
       " 'var3': {'categories_proba': {0.0: [0.9399120175964808, 0.11007798440311937],\n",
       "   1.0: [0.0600879824035193, 0.8899220155968807]},\n",
       "  'num_categories': 2,\n",
       "  'type': 'discrete'}}"
      ]
     },
     "execution_count": 8,
     "metadata": {},
     "output_type": "execute_result"
    }
   ],
   "source": [
    "classifier.get_params()['features_info']"
   ]
  },
  {
   "cell_type": "markdown",
   "metadata": {},
   "source": [
    "# Experiments\n",
    "## Irises"
   ]
  },
  {
   "cell_type": "code",
   "execution_count": 9,
   "metadata": {},
   "outputs": [],
   "source": [
    "from sklearn import datasets"
   ]
  },
  {
   "cell_type": "code",
   "execution_count": 10,
   "metadata": {},
   "outputs": [],
   "source": [
    "iris = datasets.load_iris()\n",
    "X = iris.data\n",
    "y = iris.target"
   ]
  },
  {
   "cell_type": "code",
   "execution_count": 11,
   "metadata": {},
   "outputs": [],
   "source": [
    "data_X = pd.DataFrame(X, columns=['sepal_length', 'sepal_width', 'pental_length', 'pental_width'])\n",
    "data_y = pd.DataFrame(y, columns=['training_class'])"
   ]
  },
  {
   "cell_type": "code",
   "execution_count": 12,
   "metadata": {},
   "outputs": [
    {
     "data": {
      "text/plain": [
       "Text(0, 0.5, 'Sepal width')"
      ]
     },
     "execution_count": 12,
     "metadata": {},
     "output_type": "execute_result"
    },
    {
     "data": {
      "image/png": "[encoded data removed]",
      "text/plain": [
       "<Figure size 432x288 with 1 Axes>"
      ]
     },
     "metadata": {
      "needs_background": "light"
     },
     "output_type": "display_data"
    }
   ],
   "source": [
    "# Plot the training points\n",
    "plt.scatter(X[:, 0], X[:, 1], c=y, cmap=plt.cm.Set1,\n",
    "            edgecolor='k')\n",
    "plt.xlabel('Sepal length')\n",
    "plt.ylabel('Sepal width')"
   ]
  },
  {
   "cell_type": "code",
   "execution_count": 13,
   "metadata": {},
   "outputs": [],
   "source": [
    "classifier = NaiveBayesClassifier()\n",
    "classifier.fit(data_X, data_y)"
   ]
  },
  {
   "cell_type": "code",
   "execution_count": 14,
   "metadata": {},
   "outputs": [
    {
     "name": "stdout",
     "output_type": "stream",
     "text": [
      "[0 0 0 0 0 0 0 0 0 0 0 0 0 0 0 0 0 0 0 0 0 0 0 0 0 0 0 0 0 0 0 0 0 0 0 0 0\n",
      " 0 0 0 0 0 0 0 0 0 0 0 0 0 1 1 1 1 1 1 1 1 1 1 1 1 1 1 1 1 1 1 1 1 1 1 1 1\n",
      " 1 1 1 1 1 1 1 1 1 1 1 1 1 1 1 1 1 1 1 1 1 1 1 1 1 1 2 2 2 2 2 2 2 2 2 2 2\n",
      " 2 2 2 2 2 2 2 2 2 2 2 2 2 2 2 2 2 2 2 2 2 2 2 2 2 2 2 2 2 2 2 2 2 2 2 2 2\n",
      " 2 2]\n",
      "[0 0 0 0 0 0 0 0 0 0 0 0 0 0 0 0 0 0 0 0 0 0 0 0 0 0 0 0 0 0 0 0 0 0 0 0 0\n",
      " 0 0 0 0 0 0 0 0 0 0 0 0 0 1 1 2 1 1 1 1 1 1 1 1 1 1 1 1 1 1 1 1 1 2 1 1 1\n",
      " 1 1 1 2 1 1 1 1 1 1 1 1 1 1 1 1 1 1 1 1 1 1 1 1 1 1 2 2 2 2 2 2 1 2 2 2 2\n",
      " 2 2 2 2 2 2 2 2 1 2 2 2 2 2 2 2 2 2 2 2 2 2 1 2 2 2 2 2 2 2 2 2 2 2 2 2 2\n",
      " 2 2]\n",
      "6\n",
      "150\n"
     ]
    }
   ],
   "source": [
    "print(y)\n",
    "pred = classifier.predict(data_X)\n",
    "print(pred)\n",
    "\n",
    "num_false_preds = 0\n",
    "for i in range(len(y)):\n",
    "    if y[i] != pred[i]:\n",
    "        num_false_preds += 1\n",
    "        \n",
    "print(num_false_preds)\n",
    "print(len(y))"
   ]
  },
  {
   "cell_type": "code",
   "execution_count": 15,
   "metadata": {},
   "outputs": [
    {
     "data": {
      "text/plain": [
       "0.96"
      ]
     },
     "execution_count": 15,
     "metadata": {},
     "output_type": "execute_result"
    }
   ],
   "source": [
    "144/150"
   ]
  },
  {
   "cell_type": "code",
   "execution_count": 16,
   "metadata": {},
   "outputs": [
    {
     "data": {
      "text/plain": [
       "{'data_len': 150,\n",
       " 'classes_priory': [0.3333333333333333,\n",
       "  0.3333333333333333,\n",
       "  0.3333333333333333],\n",
       " 'smoothing_alpha': 0.01,\n",
       " 'kernel': None,\n",
       " 'bandwidth': 2.0,\n",
       " 'categorical_threshold': 9.0,\n",
       " 'features_info': {'sepal_length': {'dist': [<scipy.stats._distn_infrastructure.rv_frozen at 0x1f839b48788>,\n",
       "    <scipy.stats._distn_infrastructure.rv_frozen at 0x1f839b485c8>,\n",
       "    <scipy.stats._distn_infrastructure.rv_frozen at 0x1f839b48588>],\n",
       "   'type': 'continuous'},\n",
       "  'sepal_width': {'dist': [<scipy.stats._distn_infrastructure.rv_frozen at 0x1f839b48708>,\n",
       "    <scipy.stats._distn_infrastructure.rv_frozen at 0x1f839b3c848>,\n",
       "    <scipy.stats._distn_infrastructure.rv_frozen at 0x1f839b3cb88>],\n",
       "   'type': 'continuous'},\n",
       "  'pental_length': {'dist': [<scipy.stats._distn_infrastructure.rv_frozen at 0x1f839b3c308>,\n",
       "    <scipy.stats._distn_infrastructure.rv_frozen at 0x1f839b39648>,\n",
       "    <scipy.stats._distn_infrastructure.rv_frozen at 0x1f839b39d08>],\n",
       "   'type': 'continuous'},\n",
       "  'pental_width': {'dist': [<scipy.stats._distn_infrastructure.rv_frozen at 0x1f837b67b88>,\n",
       "    <scipy.stats._distn_infrastructure.rv_frozen at 0x1f839b37688>,\n",
       "    <scipy.stats._distn_infrastructure.rv_frozen at 0x1f839b37dc8>],\n",
       "   'type': 'continuous'}}}"
      ]
     },
     "execution_count": 16,
     "metadata": {},
     "output_type": "execute_result"
    }
   ],
   "source": [
    "classifier.get_params()"
   ]
  },
  {
   "cell_type": "markdown",
   "metadata": {},
   "source": [
    "## Titanic"
   ]
  },
  {
   "cell_type": "code",
   "execution_count": 17,
   "metadata": {},
   "outputs": [],
   "source": [
    "train = pd.read_csv('train.csv')\n",
    "test = pd.read_csv('test.csv')"
   ]
  },
  {
   "cell_type": "code",
   "execution_count": 426,
   "metadata": {},
   "outputs": [],
   "source": [
    "train_data_y = train[['Survived']]\n",
    "train_data_X = train[['Pclass', 'Sex', 'Age', 'Fare', 'Embarked']]\n",
    "\n",
    "test_data_X = test[['Pclass', 'Sex', 'Age', 'Fare', 'Embarked']]"
   ]
  },
  {
   "cell_type": "code",
   "execution_count": 335,
   "metadata": {},
   "outputs": [],
   "source": [
    "# with pd.option_context(\"display.max_rows\", train_data_X.shape[0]):\n",
    "#     display(train_data_X)"
   ]
  },
  {
   "cell_type": "code",
   "execution_count": 336,
   "metadata": {},
   "outputs": [
    {
     "data": {
      "text/plain": [
       "0"
      ]
     },
     "execution_count": 336,
     "metadata": {},
     "output_type": "execute_result"
    }
   ],
   "source": [
    "sum(train_data_X['Fare'].isnull())"
   ]
  },
  {
   "cell_type": "code",
   "execution_count": 430,
   "metadata": {},
   "outputs": [
    {
     "name": "stderr",
     "output_type": "stream",
     "text": [
      "c:\\users\\ivan_hladkyi\\appdata\\local\\programs\\python\\python37\\lib\\site-packages\\pandas\\core\\generic.py:6245: SettingWithCopyWarning: \n",
      "A value is trying to be set on a copy of a slice from a DataFrame\n",
      "\n",
      "See the caveats in the documentation: https://pandas.pydata.org/pandas-docs/stable/user_guide/indexing.html#returning-a-view-versus-a-copy\n",
      "  self._update_inplace(new_data)\n"
     ]
    }
   ],
   "source": [
    "train_data_X['Age'].fillna(train_data_X['Age'].mean(), inplace=True)\n",
    "train_data_X['Embarked'].fillna('S', inplace=True) # most frequent"
   ]
  },
  {
   "cell_type": "code",
   "execution_count": 431,
   "metadata": {},
   "outputs": [],
   "source": [
    "test_data_X['Age'].fillna(test_data_X['Age'].mean(), inplace=True)\n",
    "test_data_X['Fare'].fillna(test_data_X['Fare'].mean(), inplace=True)\n",
    "test_data_X['Embarked'].fillna('S', inplace=True) # most frequent"
   ]
  },
  {
   "cell_type": "code",
   "execution_count": 356,
   "metadata": {},
   "outputs": [],
   "source": [
    "classifier = NaiveBayesClassifier(kernel='linear')\n",
    "classifier.fit(train_data_X, train_data_y)"
   ]
  },
  {
   "cell_type": "code",
   "execution_count": 357,
   "metadata": {},
   "outputs": [
    {
     "name": "stdout",
     "output_type": "stream",
     "text": [
      "172\n",
      "891\n"
     ]
    }
   ],
   "source": [
    "y = train_data_y.values.squeeze()\n",
    "pred = classifier.predict(train_data_X)\n",
    "\n",
    "num_false_preds = 0\n",
    "for i in range(len(y)):\n",
    "    if y[i] != pred[i]:\n",
    "        num_false_preds += 1\n",
    "        \n",
    "print(num_false_preds)\n",
    "print(len(y))"
   ]
  },
  {
   "cell_type": "code",
   "execution_count": 359,
   "metadata": {},
   "outputs": [
    {
     "data": {
      "text/plain": [
       "0.8069584736251403"
      ]
     },
     "execution_count": 359,
     "metadata": {},
     "output_type": "execute_result"
    }
   ],
   "source": [
    "(891 - 172) / 891"
   ]
  },
  {
   "cell_type": "code",
   "execution_count": 365,
   "metadata": {},
   "outputs": [],
   "source": [
    "pred_test = classifier.predict(test_data_X)\n",
    "test_data_y = pd.DataFrame({'PassengerId': test['PassengerId'], 'Survived' : pred_test})"
   ]
  },
  {
   "cell_type": "code",
   "execution_count": 367,
   "metadata": {},
   "outputs": [],
   "source": [
    "test_data_y.to_csv('predictions.csv')"
   ]
  },
  {
   "cell_type": "code",
   "execution_count": 369,
   "metadata": {},
   "outputs": [
    {
     "data": {
      "text/plain": [
       "pandas.core.frame.DataFrame"
      ]
     },
     "execution_count": 369,
     "metadata": {},
     "output_type": "execute_result"
    }
   ],
   "source": [
    "type(data_X)"
   ]
  },
  {
   "cell_type": "code",
   "execution_count": 433,
   "metadata": {},
   "outputs": [
    {
     "name": "stderr",
     "output_type": "stream",
     "text": [
      "c:\\users\\ivan_hladkyi\\appdata\\local\\programs\\python\\python37\\lib\\site-packages\\pandas\\core\\indexing.py:965: SettingWithCopyWarning: \n",
      "A value is trying to be set on a copy of a slice from a DataFrame.\n",
      "Try using .loc[row_indexer,col_indexer] = value instead\n",
      "\n",
      "See the caveats in the documentation: https://pandas.pydata.org/pandas-docs/stable/user_guide/indexing.html#returning-a-view-versus-a-copy\n",
      "  self.obj[item] = s\n"
     ]
    }
   ],
   "source": [
    "train_data_y.iloc[0,:] = 'hi'"
   ]
  },
  {
   "cell_type": "code",
   "execution_count": 436,
   "metadata": {},
   "outputs": [
    {
     "data": {
      "text/plain": [
       "'mixed-integer'"
      ]
     },
     "execution_count": 436,
     "metadata": {},
     "output_type": "execute_result"
    }
   ],
   "source": [
    "pd.api.types.infer_dtype(train_data_y['Survived'])"
   ]
  },
  {
   "cell_type": "code",
   "execution_count": null,
   "metadata": {},
   "outputs": [],
   "source": []
  }
 ],
 "metadata": {
  "kernelspec": {
   "display_name": "Python 3",
   "language": "python",
   "name": "python3"
  },
  "language_info": {
   "codemirror_mode": {
    "name": "ipython",
    "version": 3
   },
   "file_extension": ".py",
   "mimetype": "text/x-python",
   "name": "python",
   "nbconvert_exporter": "python",
   "pygments_lexer": "ipython3",
   "version": "3.7.6"
  }
 },
 "nbformat": 4,
 "nbformat_minor": 4
}
